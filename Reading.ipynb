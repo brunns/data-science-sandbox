{
 "cells": [
  {
   "cell_type": "code",
   "execution_count": 1,
   "id": "d7adbf4e",
   "metadata": {},
   "outputs": [
    {
     "data": {
      "text/html": [
       "<div>\n",
       "<style scoped>\n",
       "    .dataframe tbody tr th:only-of-type {\n",
       "        vertical-align: middle;\n",
       "    }\n",
       "\n",
       "    .dataframe tbody tr th {\n",
       "        vertical-align: top;\n",
       "    }\n",
       "\n",
       "    .dataframe thead th {\n",
       "        text-align: right;\n",
       "    }\n",
       "</style>\n",
       "<table border=\"1\" class=\"dataframe\">\n",
       "  <thead>\n",
       "    <tr style=\"text-align: right;\">\n",
       "      <th></th>\n",
       "      <th>Title</th>\n",
       "      <th>Authors</th>\n",
       "      <th>Audience</th>\n",
       "      <th>Read this first</th>\n",
       "      <th>ISBN</th>\n",
       "      <th>Link</th>\n",
       "      <th>Notes</th>\n",
       "    </tr>\n",
       "  </thead>\n",
       "  <tbody>\n",
       "    <tr>\n",
       "      <th>0</th>\n",
       "      <td>Working Effectively with Legacy Code</td>\n",
       "      <td>Michael Feathers</td>\n",
       "      <td>Architects &amp; Devs</td>\n",
       "      <td>NaN</td>\n",
       "      <td>978-0132931755</td>\n",
       "      <td>https://bit.ly/2WfgPut</td>\n",
       "      <td>A must read if you are dealing with a legacy s...</td>\n",
       "    </tr>\n",
       "    <tr>\n",
       "      <th>1</th>\n",
       "      <td>Agile IT Organisation Design</td>\n",
       "      <td>Sriram Narayan</td>\n",
       "      <td>Leadership</td>\n",
       "      <td>NaN</td>\n",
       "      <td>978-0133903355</td>\n",
       "      <td>https://thght.works/2WeUXiW</td>\n",
       "      <td>NaN</td>\n",
       "    </tr>\n",
       "    <tr>\n",
       "      <th>2</th>\n",
       "      <td>Domain-Driven Design Distilled</td>\n",
       "      <td>Vaugn Vernon</td>\n",
       "      <td>Architects &amp; Devs</td>\n",
       "      <td>NaN</td>\n",
       "      <td>978-0134434421</td>\n",
       "      <td>https://bit.ly/383lVzf</td>\n",
       "      <td>Or see the original Eric Evans book below</td>\n",
       "    </tr>\n",
       "    <tr>\n",
       "      <th>3</th>\n",
       "      <td>EDGE: Leading Your Digital Transformation with...</td>\n",
       "      <td>Jim Highsmith, Linda Luu, David Robinson</td>\n",
       "      <td>Product folks</td>\n",
       "      <td>NaN</td>\n",
       "      <td>978-0135263075</td>\n",
       "      <td>https://thght.works/3gOpRIb</td>\n",
       "      <td>NaN</td>\n",
       "    </tr>\n",
       "    <tr>\n",
       "      <th>4</th>\n",
       "      <td>Managing Change in Organizations</td>\n",
       "      <td>Colin Carnall</td>\n",
       "      <td>Leadership</td>\n",
       "      <td>NaN</td>\n",
       "      <td>978-0273736417</td>\n",
       "      <td>NaN</td>\n",
       "      <td>NaN</td>\n",
       "    </tr>\n",
       "  </tbody>\n",
       "</table>\n",
       "</div>"
      ],
      "text/plain": [
       "                                               Title  \\\n",
       "0               Working Effectively with Legacy Code   \n",
       "1                       Agile IT Organisation Design   \n",
       "2                     Domain-Driven Design Distilled   \n",
       "3  EDGE: Leading Your Digital Transformation with...   \n",
       "4                   Managing Change in Organizations   \n",
       "\n",
       "                                    Authors           Audience  \\\n",
       "0                          Michael Feathers  Architects & Devs   \n",
       "1                           Sriram Narayan          Leadership   \n",
       "2                              Vaugn Vernon  Architects & Devs   \n",
       "3  Jim Highsmith, Linda Luu, David Robinson      Product folks   \n",
       "4                             Colin Carnall         Leadership   \n",
       "\n",
       "  Read this first            ISBN                         Link  \\\n",
       "0             NaN  978-0132931755       https://bit.ly/2WfgPut   \n",
       "1             NaN  978-0133903355  https://thght.works/2WeUXiW   \n",
       "2             NaN  978-0134434421       https://bit.ly/383lVzf   \n",
       "3             NaN  978-0135263075  https://thght.works/3gOpRIb   \n",
       "4             NaN  978-0273736417                          NaN   \n",
       "\n",
       "                                               Notes  \n",
       "0  A must read if you are dealing with a legacy s...  \n",
       "1                                                NaN  \n",
       "2          Or see the original Eric Evans book below  \n",
       "3                                                NaN  \n",
       "4                                                NaN  "
      ]
     },
     "execution_count": 1,
     "metadata": {},
     "output_type": "execute_result"
    }
   ],
   "source": [
    "import pandas as pd\n",
    "reading = pd.read_excel('Reading List.ods')\n",
    "reading.head()"
   ]
  },
  {
   "cell_type": "code",
   "execution_count": 2,
   "id": "cde94098",
   "metadata": {
    "scrolled": true
   },
   "outputs": [
    {
     "name": "stdout",
     "output_type": "stream",
     "text": [
      "<class 'pandas.core.frame.DataFrame'>\n",
      "RangeIndex: 52 entries, 0 to 51\n",
      "Data columns (total 7 columns):\n",
      " #   Column           Non-Null Count  Dtype \n",
      "---  ------           --------------  ----- \n",
      " 0   Title            52 non-null     object\n",
      " 1   Authors          52 non-null     object\n",
      " 2   Audience         52 non-null     object\n",
      " 3   Read this first  9 non-null      object\n",
      " 4   ISBN             50 non-null     object\n",
      " 5   Link             49 non-null     object\n",
      " 6   Notes            16 non-null     object\n",
      "dtypes: object(7)\n",
      "memory usage: 3.0+ KB\n"
     ]
    }
   ],
   "source": [
    "reading.info()"
   ]
  },
  {
   "cell_type": "code",
   "execution_count": 3,
   "id": "8494c8c7",
   "metadata": {},
   "outputs": [
    {
     "data": {
      "text/plain": [
       "0                  Working Effectively with Legacy Code\n",
       "1                          Agile IT Organisation Design\n",
       "2                        Domain-Driven Design Distilled\n",
       "3     EDGE: Leading Your Digital Transformation with...\n",
       "4                      Managing Change in Organizations\n",
       "5                                      The Lean Startup\n",
       "6                                  Domain-Driven Design\n",
       "7                                  User Stories Applied\n",
       "8                               Refactoring to Patterns\n",
       "9                   Growing OO Software Guided by Tests\n",
       "10                                        Agile Testing\n",
       "11                                  Continuous Delivery\n",
       "12    Business Model Generation: A Handbook for Visi...\n",
       "13                                       Brave New Work\n",
       "14                                             The Goal\n",
       "15          Building Successful Communities of Practice\n",
       "16    Inspired: How to Create Tech Products Customer...\n",
       "17                                  The Phoenix Project\n",
       "18    Strategize: Product Strategy and Product Roadm...\n",
       "19                        Software Architecture Metrics\n",
       "20                  Infrastructure as Code, 2nd edition\n",
       "21    The Lean Product Playbook: How to Innovate wit...\n",
       "22                                Digitizing Government\n",
       "23                                              Unlearn\n",
       "24    Running Lean: Iterate from Plan A to a Plan Th...\n",
       "25                                              Lean UX\n",
       "26                                      Lean Enterprise\n",
       "27                           The Retrospective Handbook\n",
       "28                                   User Story Mapping\n",
       "29                         Site Reliability Engineering\n",
       "30                               Building Microservices\n",
       "31                  Building Evolutionary Architectures\n",
       "32                Fundamentals of Software Architecture\n",
       "33            The Art of Agile Development, 2nd edition\n",
       "34                Software Architecture: The Hard Parts\n",
       "35                              Talking with Tech Leads\n",
       "36                                          Release It!\n",
       "37                      A Philosophy of Software Design\n",
       "38                                              Cynefin\n",
       "39                      Digital Transformation at Scale\n",
       "40                                        Agile Samurai\n",
       "41                               Lean from the Trenches\n",
       "42                                          Explore It!\n",
       "43                                           Accelerate\n",
       "44                                  The Unicorn Project\n",
       "45                                      Team Topologies\n",
       "46                     The Devops Handbook, 2nd edition\n",
       "47         Chess and the Art of Enterprise Architecture\n",
       "48                  The Anatomy Of Domain-Driven Design\n",
       "49                            Introducing EventStorming\n",
       "50                            Monolith To Microservices\n",
       "51                           Your Code as a Crime Scene\n",
       "Name: Title, dtype: object"
      ]
     },
     "execution_count": 3,
     "metadata": {},
     "output_type": "execute_result"
    }
   ],
   "source": [
    "reading.Title"
   ]
  },
  {
   "cell_type": "raw",
   "id": "26e55b32",
   "metadata": {},
   "source": []
  },
  {
   "cell_type": "code",
   "execution_count": 6,
   "id": "dc64044b",
   "metadata": {},
   "outputs": [
    {
     "data": {
      "text/plain": [
       "RangeIndex(start=0, stop=52, step=1)"
      ]
     },
     "execution_count": 6,
     "metadata": {},
     "output_type": "execute_result"
    }
   ],
   "source": [
    "reading.index"
   ]
  },
  {
   "cell_type": "code",
   "execution_count": 4,
   "id": "542d10b4",
   "metadata": {},
   "outputs": [
    {
     "data": {
      "text/plain": [
       "Index(['Title', 'Authors', 'Audience', 'Read this first', 'ISBN', 'Link',\n",
       "       'Notes'],\n",
       "      dtype='object')"
      ]
     },
     "execution_count": 4,
     "metadata": {},
     "output_type": "execute_result"
    }
   ],
   "source": [
    "reading.columns"
   ]
  },
  {
   "cell_type": "code",
   "execution_count": 5,
   "id": "ea59803e",
   "metadata": {},
   "outputs": [
    {
     "data": {
      "text/html": [
       "<div>\n",
       "<style scoped>\n",
       "    .dataframe tbody tr th:only-of-type {\n",
       "        vertical-align: middle;\n",
       "    }\n",
       "\n",
       "    .dataframe tbody tr th {\n",
       "        vertical-align: top;\n",
       "    }\n",
       "\n",
       "    .dataframe thead th {\n",
       "        text-align: right;\n",
       "    }\n",
       "</style>\n",
       "<table border=\"1\" class=\"dataframe\">\n",
       "  <thead>\n",
       "    <tr style=\"text-align: right;\">\n",
       "      <th></th>\n",
       "      <th>Title</th>\n",
       "      <th>Authors</th>\n",
       "      <th>Audience</th>\n",
       "      <th>Read this first</th>\n",
       "      <th>ISBN</th>\n",
       "      <th>Link</th>\n",
       "      <th>Notes</th>\n",
       "    </tr>\n",
       "  </thead>\n",
       "  <tbody>\n",
       "    <tr>\n",
       "      <th>count</th>\n",
       "      <td>52</td>\n",
       "      <td>52</td>\n",
       "      <td>52</td>\n",
       "      <td>9</td>\n",
       "      <td>50</td>\n",
       "      <td>49</td>\n",
       "      <td>16</td>\n",
       "    </tr>\n",
       "    <tr>\n",
       "      <th>unique</th>\n",
       "      <td>52</td>\n",
       "      <td>50</td>\n",
       "      <td>13</td>\n",
       "      <td>2</td>\n",
       "      <td>50</td>\n",
       "      <td>49</td>\n",
       "      <td>14</td>\n",
       "    </tr>\n",
       "    <tr>\n",
       "      <th>top</th>\n",
       "      <td>Working Effectively with Legacy Code</td>\n",
       "      <td>Pat Kua</td>\n",
       "      <td>Architects &amp; Devs</td>\n",
       "      <td>?</td>\n",
       "      <td>978-0132931755</td>\n",
       "      <td>https://bit.ly/2WfgPut</td>\n",
       "      <td>A must-read for architects.</td>\n",
       "    </tr>\n",
       "    <tr>\n",
       "      <th>freq</th>\n",
       "      <td>1</td>\n",
       "      <td>2</td>\n",
       "      <td>15</td>\n",
       "      <td>6</td>\n",
       "      <td>1</td>\n",
       "      <td>1</td>\n",
       "      <td>3</td>\n",
       "    </tr>\n",
       "  </tbody>\n",
       "</table>\n",
       "</div>"
      ],
      "text/plain": [
       "                                       Title  Authors           Audience  \\\n",
       "count                                     52       52                 52   \n",
       "unique                                    52       50                 13   \n",
       "top     Working Effectively with Legacy Code  Pat Kua  Architects & Devs   \n",
       "freq                                       1        2                 15   \n",
       "\n",
       "       Read this first            ISBN                    Link  \\\n",
       "count                9              50                      49   \n",
       "unique               2              50                      49   \n",
       "top                  ?  978-0132931755  https://bit.ly/2WfgPut   \n",
       "freq                 6               1                       1   \n",
       "\n",
       "                              Notes  \n",
       "count                            16  \n",
       "unique                           14  \n",
       "top     A must-read for architects.  \n",
       "freq                              3  "
      ]
     },
     "execution_count": 5,
     "metadata": {},
     "output_type": "execute_result"
    }
   ],
   "source": [
    "import numpy as np\n",
    "reading.describe(include=object)"
   ]
  },
  {
   "cell_type": "code",
   "execution_count": null,
   "id": "817f7126",
   "metadata": {},
   "outputs": [],
   "source": []
  }
 ],
 "metadata": {
  "kernelspec": {
   "display_name": "Python 3 (ipykernel)",
   "language": "python",
   "name": "python3"
  },
  "language_info": {
   "codemirror_mode": {
    "name": "ipython",
    "version": 3
   },
   "file_extension": ".py",
   "mimetype": "text/x-python",
   "name": "python",
   "nbconvert_exporter": "python",
   "pygments_lexer": "ipython3",
   "version": "3.10.4"
  }
 },
 "nbformat": 4,
 "nbformat_minor": 5
}
